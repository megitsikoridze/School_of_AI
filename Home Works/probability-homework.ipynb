{
 "cells": [
  {
   "cell_type": "code",
   "execution_count": null,
   "metadata": {},
   "outputs": [],
   "source": [
    "%load_ext autoreload\n",
    "%autoreload 2\n",
    "\n",
    "%matplotlib inline"
   ]
  },
  {
   "cell_type": "markdown",
   "metadata": {},
   "source": [
    "## Basic setup"
   ]
  },
  {
   "cell_type": "markdown",
   "metadata": {},
   "source": [
    "Create anaconda environment\n",
    "<br>\n",
    "```bash\n",
    "conda create -n ml python=3.7.4 jupyter\n",
    "```\n",
    "Install fastai library\n",
    "<br>\n",
    "```bash\n",
    "conda install -c pytorch -c fastai fastai\n",
    "```"
   ]
  },
  {
   "cell_type": "markdown",
   "metadata": {},
   "source": [
    "# Sigma-algebras"
   ]
  },
  {
   "cell_type": "markdown",
   "metadata": {},
   "source": [
    "# Prove that Composition of mesurable functions is a mesurable function\n",
    "\n",
    "---\n",
    "\n",
    "Let $(X, \\sum_x)$, $(Y, \\sum_y)$, and $(Z, \\sum_z)$ be a measurable spaces. For a measurable functions $f: X \\rightarrow Y$ and $g: Y \\rightarrow Z$ w.r.t given $\\sigma$-algebras, then $g \\circ f: X \\rightarrow Z$ is measurable.\n",
    "\n",
    "If $x \\in \\sum_z$, then by measurability of $g$  we have $g^{-1}(x) \\in \\sum_y$ and by measurability of $f$ we have $f^{-1}(g^{-1}(x)) \\in \\sum_x$. Since, $(g \\circ f)^{-1} (x)=f^{-1} ( g^{-1}(x))$ we have:\n",
    "$$\\forall x\\in \\sum_{z} \\quad (g \\circ f)^{-1} (x) \\in \\sum_{x}$$ This is a measurability of $g \\circ f$\n",
    "\n",
    "$\\blacksquare$"
   ]
  },
  {
   "cell_type": "markdown",
   "metadata": {},
   "source": [
    "# Prove if $A \\subset B$ then $\\mu(A) \\le \\mu(B)$\n",
    "\n",
    "---\n",
    "\n",
    "$(B - A) \\cup (A \\cap B) = (B - A) \\cup A = B$ and $(B - A) \\cap (A \\cap B) = \\emptyset$ so,\n",
    "$\\mu((B - A) \\cup (A \\cap B)) = \\mu(B - A) + \\mu(A \\cap B) = \\mu(B - A) + \\mu(A) = \\mu(B)$ so $\\mu(A) \\le \\mu(B)$"
   ]
  },
  {
   "cell_type": "markdown",
   "metadata": {},
   "source": [
    "# Prove that:\n",
    "For probability mesure $P$ and events $A, B, C \\subset \\Omega$\n",
    "- $P(A \\cup B) = P(A) + P(B) - P(A \\cap B)$\n",
    "\n",
    "---\n",
    "\n",
    "For any sets $A$ and $B$, we have the disjoint union\n",
    "$$A \\cup B = (A- B) \\cup (A \\cap B) \\cup (B-A)$$\n",
    "\n",
    "Then, by the axiom\n",
    "$$P (A \\cup B ) = P(A- B) + P(A \\cap B) + P(B - A) \\quad (1)$$\n",
    "\n",
    "Since ,$P (A-B)= P(A) - P(A \\cap B)$ and $P (B-A)= P(B)- P(A \\cap B)$ and plugging this into equation $(1)$, implies\n",
    "\n",
    "$$ P (A \\cup B ) = P(A) - P(A \\cap B) + P(A \\cap B) + P(B)- P(A \\cap B) = P(A) + P(B) - P(A \\cap B)$$\n",
    "\n",
    "\n",
    "$\\blacksquare$"
   ]
  },
  {
   "cell_type": "markdown",
   "metadata": {},
   "source": [
    "# Prove that \n",
    "$$\\sigma^2 = \\operatorname{E}[X^2] - (\\operatorname{E}[X])^2$$\n",
    "Assuming that expectation exists Denoted by $\\sigma^2$\n",
    "\n",
    "---\n",
    "\n",
    "This is [König-Huygens formula](https://en.wikipedia.org/wiki/Algebraic_formula_for_the_variance) and the proof is the following:\n",
    "\n",
    "\\begin{align}\n",
    "\\text{Var}(X) &= \\mathbb E\\left[ \\left(\\,X - \\mathbb E(X)\\,   \\right)^2\\right]\\\\[2ex]\n",
    "&=\\mathbb E\\left[X^2 - 2\\,X\\,\\mathbb E(X)\\, +\\left[\\,\\mathbb E(X)\\, \\right]^2  \\right]\\\\[2ex]\n",
    "&=\\mathbb E (X^2) -\\mathbb E \\left[\\,2\\,X\\,\\mathbb E(X)\\, \\right]+\\left[\\,\\mathbb E(X)\\, \\right]^2  \\\\[2ex]\n",
    "&=\\mathbb E (X^2) -2\\,\\mathbb E[X]\\;\\mathbb E(X)\\, +\\left[\\,\\mathbb E(X)\\, \\right]^2  \\\\[2ex]\n",
    "&=\\mathbb E (X^2) -2\\,\\left[\\mathbb E(X)\\right]^2\\, +\\left[\\,\\mathbb E(X)\\, \\right]^2  \\\\[2ex]\n",
    "&=\\mathbb E\\left(X^2 \\right)\\quad-\\quad \\left[\\;\\mathbb E\\left(X\\right)\\;\\right]^2\\\\[2ex]\n",
    "&=\\frac{\\displaystyle\\sum_{i=1}^n x_i^2}{n}  \\quad-\\quad \\left[  \\frac{\\displaystyle\\sum_{i=1}^n x_i}{n}\\right]^2\n",
    "\\end{align}"
   ]
  },
  {
   "cell_type": "code",
   "execution_count": null,
   "metadata": {},
   "outputs": [],
   "source": []
  }
 ],
 "metadata": {
  "kernelspec": {
   "display_name": "Python 3",
   "language": "python",
   "name": "python3"
  },
  "language_info": {
   "codemirror_mode": {
    "name": "ipython",
    "version": 3
   },
   "file_extension": ".py",
   "mimetype": "text/x-python",
   "name": "python",
   "nbconvert_exporter": "python",
   "pygments_lexer": "ipython3",
   "version": "3.6.9"
  }
 },
 "nbformat": 4,
 "nbformat_minor": 4
}
