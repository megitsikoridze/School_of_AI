{
 "cells": [
  {
   "cell_type": "code",
   "execution_count": null,
   "metadata": {},
   "outputs": [],
   "source": [
    "%load_ext autoreload\n",
    "%autoreload 2\n",
    "\n",
    "%matplotlib inline"
   ]
  },
  {
   "cell_type": "markdown",
   "metadata": {},
   "source": [
    "## Basic setup"
   ]
  },
  {
   "cell_type": "markdown",
   "metadata": {},
   "source": [
    "Create anaconda environment\n",
    "<br>\n",
    "```bash\n",
    "conda create -n ml python=3.7.4 jupyter\n",
    "```\n",
    "Install fastai library\n",
    "<br>\n",
    "```bash\n",
    "conda install -c pytorch -c fastai fastai\n",
    "```"
   ]
  },
  {
   "cell_type": "markdown",
   "metadata": {},
   "source": [
    "# Set theory basics"
   ]
  },
  {
   "cell_type": "markdown",
   "metadata": {},
   "source": [
    "# **Prove that $A \\subseteq A$**"
   ]
  },
  {
   "cell_type": "markdown",
   "metadata": {},
   "source": [
    "Let, restate the problem in the following way: $$\\forall x: \\ \\ A \\subseteq A$$ or $$\\forall x: (x\\in A \\implies x\\in A) \\leadsto A \\subseteq A$$\n",
    "\n",
    "by the [Law of Identity](https://proofwiki.org/wiki/Law_of_Identity) it implies itself.\n",
    "\n",
    "$\\blacksquare$"
   ]
  },
  {
   "cell_type": "markdown",
   "metadata": {},
   "source": [
    " "
   ]
  },
  {
   "cell_type": "markdown",
   "metadata": {},
   "source": [
    "# Prove that if $B \\subset A$ then $A \\cap B = B$"
   ]
  },
  {
   "cell_type": "markdown",
   "metadata": {},
   "source": [
    "From proper subset defenition we know that $B \\subset A$ if $\\forall x: \\ x \\in B$ $\\implies$ $ x \\in A$, but $\\exists y: y \\in A \\ and \\ y \\notin B$ $\\implies$ $ A \\cap B = B$\n",
    "\n",
    "$\\blacksquare$"
   ]
  },
  {
   "cell_type": "markdown",
   "metadata": {},
   "source": [
    "# Prove that $A \\cap B = B \\cap A$"
   ]
  },
  {
   "cell_type": "markdown",
   "metadata": {},
   "source": [
    "$$x \\in A \\cap B $$ $\\iff$\n",
    "\n",
    "$$x \\in A \\land x \\in B \\  \\ \\text{by set intersection}$$ by conjuction commutativity $$x \\in B \\land x \\in A$$ $\\implies$ $$x \\in B \\cap A $$\n",
    "\n",
    "$\\blacksquare$"
   ]
  },
  {
   "cell_type": "markdown",
   "metadata": {},
   "source": [
    " "
   ]
  },
  {
   "cell_type": "markdown",
   "metadata": {},
   "source": [
    "# Prove that if $B \\subset A$ then $A \\cup B = A$"
   ]
  },
  {
   "cell_type": "markdown",
   "metadata": {},
   "source": [
    "From proper subset definiton we know that all elemnets in B is also in A. However, there exsits element in A, which does not belong to the set B. From set union definition, union is the set of all elements which are in A, in B or in both A and B. This implies that if B is a proper subset of A then their union is itself set A.\n",
    "\n",
    "$\\blacksquare$"
   ]
  },
  {
   "cell_type": "markdown",
   "metadata": {},
   "source": [
    "# Prove that $A \\cup B = B \\cup A$"
   ]
  },
  {
   "cell_type": "markdown",
   "metadata": {},
   "source": [
    "$$x \\in A \\cup B$$ $\\iff$ $$x \\in A \\lor x \\in B$$ by disjunction commutativity we have $$x \\in B \\lor x \\in A$$ $\\implies$ $$x \\in B \\cup A$$\n",
    "\n",
    "$\\blacksquare$"
   ]
  },
  {
   "cell_type": "markdown",
   "metadata": {},
   "source": [
    " "
   ]
  },
  {
   "cell_type": "markdown",
   "metadata": {},
   "source": [
    "Prove that:\n",
    "- for every injection $m:A \\to B$ and pair of functions $f, g :C \\to A$: if $m \\circ f = m \\circ g$ then $f = g$ and vice-versa\n",
    "- for every surjection $e:A \\to B$ and every pair of functions $f, g :B \\to C$: if $f \\circ e = g \\circ e$ then $f = g$ and vice-versa\n",
    "\n",
    "\n",
    "**Working on this problem**"
   ]
  },
  {
   "cell_type": "markdown",
   "metadata": {},
   "source": [
    " "
   ]
  },
  {
   "cell_type": "markdown",
   "metadata": {},
   "source": [
    "# Prove that composition of injections is injection itself"
   ]
  },
  {
   "cell_type": "markdown",
   "metadata": {},
   "source": [
    "Let prove by contrapositivity:\n",
    "    \n",
    "Assume we have two functions $f$ and $g$ and they are injective and suppose\n",
    "\n",
    "$$g\\circ f(x_1)=g\\circ f(x_2)$$\n",
    "\n",
    "This means that\n",
    "\n",
    "$$g(f(x_1))=g(f(x_2))$$\n",
    "\n",
    "Injectrivity of $g$, implies\n",
    "\n",
    "$$f(x_1)=f(x_2)$$\n",
    "\n",
    "And injectivity of $f$, implies\n",
    "\n",
    "$$x_1=x_2$$\n",
    "\n",
    "$\\blacksquare$"
   ]
  },
  {
   "cell_type": "markdown",
   "metadata": {},
   "source": [
    " "
   ]
  },
  {
   "cell_type": "markdown",
   "metadata": {},
   "source": [
    "# Prove that composition of surjections is surjection itself"
   ]
  },
  {
   "cell_type": "markdown",
   "metadata": {},
   "source": [
    "Suppose $f: A \\rightarrow B$ and $g:B \\rightarrow C$ are surjective. In order to prove that $g \\circ f: A \\rightarrow C$, we need to prove:\n",
    "\n",
    "$$\\forall c \\in C, \\ \\exists a \\in A$$ such that $$(g \\circ f)(a) = c$$\n",
    "\n",
    "\n",
    "Let $c$ be any element of $C$\n",
    "\n",
    "Since $g:B \\rightarrow C$ is surjective, $\\exists b \\in B$ such that $g(b) = c$\n",
    "\n",
    "Since $f:A \\rightarrow B$ is surjective, $\\exists a \\in A$ such that $f(a) = b$\n",
    "\n",
    "So,\n",
    "\n",
    "$$(g \\circ f)(a) = g(f(a)) = g(b) = c$$\n",
    "\n",
    "\n",
    "$\\blacksquare$"
   ]
  },
  {
   "cell_type": "markdown",
   "metadata": {},
   "source": [
    " "
   ]
  },
  {
   "cell_type": "markdown",
   "metadata": {},
   "source": [
    "# Prove that composition of bijections is bijection itself"
   ]
  },
  {
   "cell_type": "markdown",
   "metadata": {},
   "source": [
    "Suppose we have two bijective functions $f: A \\rightarrow B$ and $g: B \\rightarrow C$. Now define $h = (g \\circ f): A \\rightarrow C$. We have to show that $h$ is bijection.\n",
    "\n",
    "To show that $h$ is bijection, we have to show that $h$ is injection and surjection simultaneously.\n",
    "\n",
    "**First**, let show that $h$ is injective. For injectivity we have to show that if $h(a) = h(a^{'})$, then $a = a^{'}$.\n",
    "\n",
    "Suppose $h(a) = h(a^{'})$. By our definition of $h$, this means $g(f(a)) = g(f(a^{'}))$. As both, $f$ and $g$ are injective (since they are bijective) and so\n",
    "\n",
    "$$g(f(a)) = g(f(a^{'})) \\implies f(a) = f(a^{'}) \\implies a = a^{'}$$ and hence $h$ is injective\n",
    "\n",
    "\n",
    "**Second**, show that that both $f$ and $g$ are surjections. Hence thye are bijectons then $f(A) = B$ and $g(B) = C$. Therefore, we also have that\n",
    "\n",
    "$$h(A) = (g \\circ f)(A) \\\\ = \\{c \\in C \\ | \\ (g \\circ f)(a) = c \\ \\text{for some a} \\in A \\} \\\\ = \\{c \\in C \\ | \\ g(f(a)) = c, \\ \\text{for some a} \\in A \\} \\\\ = \\{c \\in C \\ | \\ g(b) = c \\ \\text{for some b} \\in f(A) \\} \\\\ = g(f(A)) \\\\ = g(B) \\\\ = C$$\n",
    "\n",
    "hence, $h$ is surjective.\n",
    "\n",
    "\n",
    "Since, $h$ is injective and surjective, then $h$ is bijective and sets $A$ and $C$ are in bijective correspondence.\n",
    "\n",
    "\n",
    "$\\blacksquare$"
   ]
  },
  {
   "cell_type": "markdown",
   "metadata": {},
   "source": [
    " "
   ]
  },
  {
   "cell_type": "markdown",
   "metadata": {},
   "source": [
    "# Prove that $A \\cong A$\n",
    "\n",
    "From the definition of equivalence relation, which is a relation $R$ on $A$ satisfying the following:\n",
    "* Reflexivity - $ \\forall a \\in A, (a, a) \\in R$\n",
    "* Symmetry - if $(a, b) \\in R  \\ \\text{then} \\ (b, a) \\in R$\n",
    "* Transitivity - if $(a, b) \\in R \\ \\text{and} \\ (b, c) \\in R \\ \\text{then} \\ (a, c) \\in R$\n",
    "\n",
    "Set $A$ satisfying thall of these is equivalent to itself, denoting $A \\cong A$\n",
    "\n",
    "$\\blacksquare$"
   ]
  },
  {
   "cell_type": "markdown",
   "metadata": {},
   "source": [
    "# Prove that if $B \\cong A$ then $B \\cong A$ for every pair of sets $A$ and $B$\n",
    "\n",
    "\n",
    "Two sets are equivalent if it is possible to pair off members of the first set with memebrs of the second set, with no leftover members on either side. In other words this means that set $A$ and set $B$ have same number of elements or they same same cardinality.\n",
    "\n",
    "If $B \\cong A$ holds then this holds for every pair of sets $A$ and $B$\n",
    "\n",
    "\n",
    "$\\blacksquare$"
   ]
  },
  {
   "cell_type": "markdown",
   "metadata": {},
   "source": [
    "# Prove that if $A \\cong B$ and $B \\cong C$ then $A \\cong C$ for every triplet $A$, $B$ and $C$\n",
    "\n",
    "If $f : A \\rightarrow B$ and $g: B \\rightarrow C$ is bijection then we say $A \\cong B$ and $B \\cong C$ then the composition $g \\circ f: A \\rightarrow C$ is a bijection and therefore $A \\cong C$\n",
    "\n",
    "$\\blacksquare$"
   ]
  },
  {
   "cell_type": "markdown",
   "metadata": {},
   "source": [
    "# Prove that there exists a bijection between set of natural and even numbers\n",
    "\n",
    "The map $\\Bbb N\\to E:n\\mapsto 2n$ from Natural nambers to Natural Even numbers is bijection.\n",
    "\n",
    "The map $ n\\mapsto\\begin{cases}\n",
    "-n,&\\text{if }n\\text{ is even}\\\\\n",
    "n+1,&\\text{if }n\\text{ is odd}\\;\n",
    "\\end{cases}$\n",
    "\n",
    "is the map between Natural and Integer Even numbers, which is a bijection. **As Natural numbers and Even numbers have same cardinality then we conclude that there is bijective relation**\n",
    "\n",
    "$\\blacksquare$"
   ]
  },
  {
   "cell_type": "markdown",
   "metadata": {},
   "source": [
    "# Prove that if we have a bijection between two finite sets than they have an equal number of elements\n",
    "\n",
    "\n",
    "$f$ is bijective, so it is injective and surjective.\n",
    "\n",
    "Since $f$ is injective, $f(a)=f(b)⟹a=b$. For a given value in the range, there is one and only one value in the domain. So the cardinality of the domain is less than or equal to the cardinality of the range. There could be points in the range not mapped from the domain.\n",
    "\n",
    "Since $f$ is surjective, every element of the range has a pre image in the domain. The domain might have some elements not mapped to elements of the range. So the cardinality of the domain is greater than or equal to the cardinality of the range.\n",
    "\n",
    "$n<=m \\ \\text{and} \\ n>=m \\rightarrow n=m$\n",
    "\n",
    "$\\blacksquare$"
   ]
  },
  {
   "cell_type": "markdown",
   "metadata": {},
   "source": [
    "# Prove that $A \\times B \\cong B \\times A$\n",
    "\n",
    "\n",
    "In other words, if I prove that there exist bijection between $A \\times B$ and $B \\times A$ then I can conclude that $A \\times B \\cong B \\times A$\n",
    "\n",
    "---\n",
    "\n",
    "Let $a:S \\times T \\rightarrow T \\times S$ be the mapping defined as:\n",
    "\n",
    "$\\forall(s,t) \\in S \\times T:a(s,t)=(t,s)$\n",
    "\n",
    "Then $a$ is the bijection required, as follows:\n",
    "\n",
    "\n",
    "The domain of $a$ is $S \\times T$.\n",
    "\n",
    "Let $(t,s) \\in T \\times S$.\n",
    "\n",
    "Then there exists $(s,t) \\in S \\times T such that a(s,t)=(t,s)$.\n",
    "\n",
    "Thus $a$ is a surjection.\n",
    "\n",
    "\n",
    "Let $a(s_1,t_1)=a(s_2,t_2)$ for some $(s_1,t_1)$ and $(s_2,t_2) \\in S \\times T$.\n",
    "\n",
    "Then:\n",
    "\n",
    "$a(s_1,t_1)\t= a(s_2,t_2) \\rightarrow (t_1,s_1)=(t_2,s_2) \\rightarrow (s_1,t_1)=(s_2,t_2)$\n",
    "\n",
    "Hence the result by definition of bijection. Therefore $A \\times B \\cong B \\times A$\n",
    "\n",
    "$\\blacksquare$"
   ]
  },
  {
   "cell_type": "markdown",
   "metadata": {},
   "source": [
    " "
   ]
  },
  {
   "cell_type": "markdown",
   "metadata": {},
   "source": [
    "$\\cap_{i\\in I}A_i$ and $\\cup_{i\\in I}A_i$ - Inplement in python"
   ]
  },
  {
   "cell_type": "code",
   "execution_count": null,
   "metadata": {},
   "outputs": [],
   "source": [
    "x = {1,2,3,5}\n",
    "y = {4,5,3}\n",
    "z = {7,3,5}\n",
    "\n",
    "\n",
    "\n",
    "def set_intersection(*args):\n",
    "    x = list(args)\n",
    "    result = set.intersection(*x)\n",
    "    return result\n",
    "\n",
    "\n",
    "\n",
    "\n",
    "set_intersection(x, y, z)"
   ]
  },
  {
   "cell_type": "markdown",
   "metadata": {},
   "source": [
    "We can also define cartesian product of any \"number\" of sets $\\prod_{i \\in I}{A_i}$ - Inplement in python"
   ]
  },
  {
   "cell_type": "code",
   "execution_count": null,
   "metadata": {
    "scrolled": true
   },
   "outputs": [],
   "source": [
    "from itertools import product\n",
    "\n",
    "\n",
    "\n",
    "x = {1,2,3,5}\n",
    "y = {4,5,3}\n",
    "z = {7,3,5}\n",
    "\n",
    "\n",
    "\n",
    "\n",
    "def multi_cartesian(*args):\n",
    "    result = list(product(*args))\n",
    "    return result\n",
    "\n",
    "\n",
    "multi_cartesian(x,y,z)"
   ]
  },
  {
   "cell_type": "markdown",
   "metadata": {},
   "source": [
    "# Prove that $A \\cap (B \\cup C)=(A \\cap B) \\cup (A\\cap C)$\n",
    "\n",
    "---\n",
    "\n",
    "\n",
    "Let $x$ be an arbitrary element of $A \\cap (B \\cup C)$, this means that $x \\in A$ and $x \\in (B \\cup C)$. Since, $x \\in (B \\cup C)$ we know that $x \\in B$ or $x \\in C$. Then this implies that $x \\in (A \\cap B)$ or $x \\in (A \\cap C)$ depending on whether $x \\in B$ or $x \\in C$, respectively. Then since, $x \\in (A \\cap B)$ or $x \\in (A \\cap C)$ we have $x \\in (A \\cap B) \\cup (A \\cap C)$. Thus $A \\cap (B \\cup C) \\subseteq (A \\cap B) \\cup (A\\cap C)$. \n",
    "\n",
    "For the opposite inclusion, let $x$ be an arbitrary element of $(A \\cap B) \\cup (A \\cap C)$. This means that $x \\in  (A \\cap B)$ or $x \\in (A \\cap C)$. If $x \\in (A \\cap B)$ then $x \\in A$ and $x \\in B$, while if $x \\in (A \\cap C)$ we have $x \\in A$ and $x \\in C$.\n",
    "\n",
    "Thus, we have $x \\in A$ no matter what, and either $x \\in B$ or $x \\in C$. Since $x \\in B$ or $x \\in C$, we know $x \\in (B \\cup C)$. Since we already had that $x \\in A$ no matter what, we now have $x \\in A \\cap (B \\cup C)$. Therefore, $(A \\cap B) \\cup (A \\cap C) \\subseteq A \\cap (B \\cup C)$.\n",
    "\n",
    "Hence, $A \\cap (B \\cup C) = (A \\cap B) \\cup (A \\cap C)$\n",
    "\n",
    "$\\blacksquare$"
   ]
  },
  {
   "cell_type": "markdown",
   "metadata": {},
   "source": [
    "# Prove that $A \\cup (B \\cap C)=(A \\cup B) \\cap (A\\cup C)$\n",
    "\n",
    "---\n",
    "\n",
    "Let x be an arbitrary element of $A \\cup (B \\cap C)$. This means $x \\in A$ or $x \\in (B \\cap C)$. If $x \\in A$ then $x \\in A \\cup B$ and $x \\in A \\cup C$. \n",
    "\n",
    "\n",
    "\n",
    "Hence, $x \\in (A \\cup B) \\cap (A \\cup C)$. Otherwise, if $x \\in (B \\cap C)$ then $x \\in B$ and $x \\in C$. Hence, $x \\in A \\cup B$ and $x \\in A \\cup C$; therefore, $x \\in (A \\cup B) \\cap (A \\cup C)$. Therefore, $A \\cup (B \\cap C) \\subseteq (A \\cup B) \\cap (A \\cup C)$.\n",
    "\n",
    "\n",
    "For the reverse inclusion, let $x$ be an arbitrary element of $(A \\cup B) \\cap (A \\cup C)$. This means $x \\in (A \\cup B)$ and $x \\in (A \\cup C)$. This implies that $x \\in A$ or $x \\in B$ and $x \\in C$ (since if $x \\notin A$ then the fact that $x \\in A \\cup B$ and $x \\in A \\cup C$ means $x$ must be in both $B$ and $C$). If $x \\in A$, then $x \\in A \\cup (B \\cap C)$. On the other hand, if $x \\in B$ and $x \\in C$, then $x \\in B \\cap C$. Hence, $x \\in A \\cup (B \\cap C)$. Therefore, $(A \\cup B) \\cap (A \\cup C) \\subseteq A \\cup (B \\cap C)$.\n",
    "\n",
    "\n",
    "Therefore, $A \\cup (B \\cap C) = (A \\cup B) \\cap (A \\cup C)$\n",
    "\n",
    "$\\blacksquare$"
   ]
  },
  {
   "cell_type": "markdown",
   "metadata": {},
   "source": [
    "# Prove that $(AB)^{T} = B^{T}A^{T}$ for each pair of matrices $A, B \\in \\mathbb{R}^{n \\times m}$"
   ]
  },
  {
   "cell_type": "markdown",
   "metadata": {},
   "source": [
    "To prove above proposition we need to recall matrix multiplication, which is:\n",
    "\n",
    "$$A \\cdot B = (AB)_{ij} = \\sum_{k=1}^n a_{ik} b_{kj}$$\n",
    "\n",
    "Let take transpose of it, we'll have\n",
    "\n",
    "$$(A \\cdot B)^{T} = ((AB)_{ij})^T = \\sum_{k=1}^n a_{jk}b_{ki}$$\n",
    "\n",
    "For $B \\cdot A$ we have\n",
    "\n",
    "$$(BA)_{ij} = \\sum_{k=1}^n b_{ik}a_{ki}$$\n",
    "\n",
    "Then we have\n",
    "\n",
    "$$B^{T}A^{T} = (B_{ik})^{T}(A_{kj})^{T} = \\sum_{k=1}^n b_{ki}a_{jk} = \\sum_{k=1}^n a_{jk}b_{ki}$$\n",
    "\n",
    "$\\blacksquare$"
   ]
  },
  {
   "cell_type": "markdown",
   "metadata": {},
   "source": [
    "# Write combination for $XOR$ calculation"
   ]
  },
  {
   "cell_type": "markdown",
   "metadata": {},
   "source": [
    "XOR gate gives True when both gate differs from each other, otherwise gives False."
   ]
  },
  {
   "cell_type": "code",
   "execution_count": 1,
   "metadata": {},
   "outputs": [],
   "source": [
    "import numpy as np"
   ]
  },
  {
   "cell_type": "code",
   "execution_count": 2,
   "metadata": {},
   "outputs": [],
   "source": [
    "def sigmoid(x):\n",
    "    return 1 / (1 + np.exp(-x))\n",
    "\n",
    "\n",
    "def sigmoid_derivative(x):\n",
    "    return x * (1 - x)\n"
   ]
  },
  {
   "cell_type": "code",
   "execution_count": 3,
   "metadata": {},
   "outputs": [],
   "source": [
    "inputs = np.array([[0,0],[0,1],[1,0],[1,1]])\n",
    "\n",
    "expected_outputs = np.array([[0],[1],[1],[0]])"
   ]
  },
  {
   "cell_type": "markdown",
   "metadata": {},
   "source": [
    "### Network hyperparameters"
   ]
  },
  {
   "cell_type": "code",
   "execution_count": 4,
   "metadata": {},
   "outputs": [],
   "source": [
    "\n",
    "epochs = 10000\n",
    "\n",
    "lr = 0.1\n",
    "\n",
    "input_neurons, hidden_neurons, output_neurons = 2,2,1"
   ]
  },
  {
   "cell_type": "markdown",
   "metadata": {},
   "source": [
    "### Initialize random weights and bias"
   ]
  },
  {
   "cell_type": "code",
   "execution_count": 5,
   "metadata": {},
   "outputs": [],
   "source": [
    "\n",
    "hidden_weights = np.random.uniform(size=(input_neurons,hidden_neurons))\n",
    "\n",
    "hidden_bias =np.random.uniform(size=(1,hidden_neurons))\n",
    "\n",
    "output_weights = np.random.uniform(size=(hidden_neurons,output_neurons))\n",
    "\n",
    "output_bias = np.random.uniform(size=(1,output_neurons))"
   ]
  },
  {
   "cell_type": "code",
   "execution_count": 6,
   "metadata": {},
   "outputs": [
    {
     "name": "stdout",
     "output_type": "stream",
     "text": [
      "Initial hidden weights: [0.65157906 0.82749257] [0.73205371 0.95056427]\n",
      "Initial hidden biases: [0.33147562 0.31491792]\n",
      "Initial output weights: [0.99832224] [0.50295119]\n",
      "Initial output biases: [0.92699126]\n"
     ]
    }
   ],
   "source": [
    "print(\"Initial hidden weights: \",end='')\n",
    "print(*hidden_weights)\n",
    "print(\"Initial hidden biases: \",end='')\n",
    "print(*hidden_bias)\n",
    "print(\"Initial output weights: \",end='')\n",
    "print(*output_weights)\n",
    "print(\"Initial output biases: \",end='')\n",
    "print(*output_bias)"
   ]
  },
  {
   "cell_type": "markdown",
   "metadata": {},
   "source": [
    "### Training algorithm"
   ]
  },
  {
   "cell_type": "code",
   "execution_count": 7,
   "metadata": {},
   "outputs": [],
   "source": [
    "for _ in range(epochs):\n",
    "    \n",
    "    #Forward Propagation\n",
    "    hidden_layer_activation = np.dot(inputs,hidden_weights) + hidden_bias\n",
    "    hidden_layer_output = sigmoid(hidden_layer_activation)\n",
    "\n",
    "    output_layer_activation = np.dot(hidden_layer_output,output_weights) + output_bias\n",
    "    predicted_output = sigmoid(output_layer_activation)\n",
    "\n",
    "    #Backpropagation\n",
    "    error = expected_outputs - predicted_output\n",
    "    d_predicted_output = error * sigmoid_derivative(predicted_output)\n",
    "\n",
    "    error_hidden_layer = d_predicted_output.dot(output_weights.T)\n",
    "    d_hidden_layer = error_hidden_layer * sigmoid_derivative(hidden_layer_output)\n",
    "\n",
    "    #Updating Weights and Biases\n",
    "    output_weights = output_weights + hidden_layer_output.T.dot(d_predicted_output) * lr\n",
    "    output_bias = output_bias + np.sum(d_predicted_output,axis=0,keepdims=True) * lr\n",
    "    \n",
    "    hidden_weights = hidden_weights + inputs.T.dot(d_hidden_layer) * lr\n",
    "    hidden_bias = hidden_bias + np.sum(d_hidden_layer,axis=0,keepdims=True) * lr"
   ]
  },
  {
   "cell_type": "code",
   "execution_count": 8,
   "metadata": {},
   "outputs": [
    {
     "name": "stdout",
     "output_type": "stream",
     "text": [
      "Final hidden weights: [5.8099936  3.72658688] [5.81945544 3.72843471]\n",
      "Final hidden bias: [-2.40545056 -5.69998043]\n",
      "Final output weights: [7.47865356] [-8.065692]\n",
      "Final output bias: [-3.38467525]\n"
     ]
    }
   ],
   "source": [
    "print(\"Final hidden weights: \",end='')\n",
    "print(*hidden_weights)\n",
    "print(\"Final hidden bias: \",end='')\n",
    "print(*hidden_bias)\n",
    "print(\"Final output weights: \",end='')\n",
    "print(*output_weights)\n",
    "print(\"Final output bias: \",end='')\n",
    "print(*output_bias)"
   ]
  },
  {
   "cell_type": "code",
   "execution_count": 9,
   "metadata": {},
   "outputs": [
    {
     "name": "stdout",
     "output_type": "stream",
     "text": [
      "Output from neural network after 10,000 epochs: [0.05772779] [0.94633218] [0.94630198] [0.0582306]\n"
     ]
    }
   ],
   "source": [
    "print(\"Output from neural network after 10,000 epochs: \",end='')\n",
    "print(*predicted_output)"
   ]
  },
  {
   "cell_type": "markdown",
   "metadata": {},
   "source": [
    "### From output, we see that the network converged towards expected output"
   ]
  }
 ],
 "metadata": {
  "kernelspec": {
   "display_name": "Python 3",
   "language": "python",
   "name": "python3"
  },
  "language_info": {
   "codemirror_mode": {
    "name": "ipython",
    "version": 3
   },
   "file_extension": ".py",
   "mimetype": "text/x-python",
   "name": "python",
   "nbconvert_exporter": "python",
   "pygments_lexer": "ipython3",
   "version": "3.6.9"
  }
 },
 "nbformat": 4,
 "nbformat_minor": 4
}
